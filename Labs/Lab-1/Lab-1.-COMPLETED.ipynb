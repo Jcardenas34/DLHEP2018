{
 "cells": [
  {
   "cell_type": "markdown",
   "metadata": {},
   "source": [
    "## Lab 1- Python\n",
    "\n",
    "Let start with generating some fake random data. You can get a random number between 0 and 1 using the python random module as follow:"
   ]
  },
  {
   "cell_type": "code",
   "execution_count": 1,
   "metadata": {},
   "outputs": [
    {
     "name": "stdout",
     "output_type": "stream",
     "text": [
      "The Value of x is 0.9435087639130889\n"
     ]
    }
   ],
   "source": [
    "import random\n",
    "x=random.random()\n",
    "print(\"The Value of x is\", x)"
   ]
  },
  {
   "cell_type": "markdown",
   "metadata": {},
   "source": [
    "### Exercise 1.1\n",
    "Using random, write a function GenerateData(N, mymin, mymax), that returns a python list containing N random numbers between specified minimum and maximum value. Note that you may want to quickly work out on paper how to turn numbers between 0 and 1 to between other values. "
   ]
  },
  {
   "cell_type": "code",
   "execution_count": 62,
   "metadata": {},
   "outputs": [
    {
     "name": "stdout",
     "output_type": "stream",
     "text": [
      "Data Type: <class 'list'>\n",
      "Data Length: 10000\n",
      "Type of Data Contents: <class 'float'>\n",
      "Data Minimum: -9.999825689365485\n",
      "Data Maximum: 9.997231683947444\n"
     ]
    }
   ],
   "source": [
    "# Skeleton\n",
    "def GenerateData(N,min,max):\n",
    "    out = []\n",
    "    \n",
    "    for i in range(N):\n",
    "     #   out.append(random.uniform(min,max))        # using a much easier alternative\n",
    "        out.append((max-min)*random.random() + min) # manually making values from min to max\n",
    "    #print(out)\n",
    "    return out\n",
    "\n",
    "Data=GenerateData(10000,-10,10)\n",
    "print(\"Data Type:\", type(Data))\n",
    "print(\"Data Length:\", len(Data))\n",
    "if len(Data)>0: \n",
    "    print(\"Type of Data Contents:\", type(Data[0]))\n",
    "    print(\"Data Minimum:\", min(Data))\n",
    "    print(\"Data Maximum:\", max(Data))"
   ]
  },
  {
   "cell_type": "markdown",
   "metadata": {},
   "source": [
    "### Exercise 1.2\n",
    "\n",
    "Write a function that computes the mean of values in a list."
   ]
  },
  {
   "cell_type": "code",
   "execution_count": 37,
   "metadata": {},
   "outputs": [
    {
     "name": "stdout",
     "output_type": "stream",
     "text": [
      "Mean of Data: 0.013110770575331117\n"
     ]
    }
   ],
   "source": [
    "# Skeleton\n",
    "def mean(Data):\n",
    "    m=0\n",
    "    for i in Data:\n",
    "        m+= i\n",
    "    m = m/len(Data)\n",
    "    \n",
    "    return m\n",
    "\n",
    "print(\"Mean of Data:\", mean(Data))"
   ]
  },
  {
   "cell_type": "markdown",
   "metadata": {},
   "source": [
    "### Exercise 1.3\n",
    "\n",
    "Write a function the applies a booling function (that returns true/false) to every element in data, and return a list of indices of elements where the result was true. Use this function to find the indices of positive entries. "
   ]
  },
  {
   "cell_type": "code",
   "execution_count": 63,
   "metadata": {},
   "outputs": [],
   "source": [
    "def where(mylist,myfunc):\n",
    "## what is the purpose of myfunc parameter??\n",
    "    out= []\n",
    "    for i in range(len(mylist)):\n",
    "        if myfunc(mylist[i]) == True:\n",
    "            out.append(i)\n",
    "            \n",
    "    #print(out)\n",
    "    \n",
    "    return out"
   ]
  },
  {
   "cell_type": "markdown",
   "metadata": {},
   "source": [
    "### Exercise 1.4\n",
    "\n",
    "The inrange(mymin,mymax) function below returns a function that tests if it's input is between the specified values. Use this function, in conjunction to your solution to 1.3, to demonstrate that your data is \"flat\". Hint: pick several sub-ranges and show that the number of data point divided by the size of the range is roughly constant. "
   ]
  },
  {
   "cell_type": "code",
   "execution_count": 78,
   "metadata": {},
   "outputs": [
    {
     "name": "stdout",
     "output_type": "stream",
     "text": [
      "5035\n",
      "0\n",
      "3021\n",
      "1023\n",
      "3054\n",
      "Number of Entries passing F1: 5035\n",
      "Number of Entries passing F2: 0\n",
      "503.5\n",
      "503.5\n",
      "511.5\n",
      "509.0\n"
     ]
    }
   ],
   "source": [
    "def inrange(mymin,mymax):\n",
    "    def testrange(x):\n",
    "        return x<mymax and x>=mymin\n",
    "    return testrange\n",
    "\n",
    "# Examples:\n",
    "F1=inrange(0,10)\n",
    "F2=inrange(10,20)\n",
    "F3=inrange(2,8)\n",
    "F4=inrange(4,6)\n",
    "F5=inrange(3,9)\n",
    "\n",
    "#print(F1(0),\"_\", F1(1), F1(10), F1(15), F1(20))\n",
    "#print(F2(0), F2(1), F2(10), F2(15), F2(20))\n",
    "range1 = len(where(Data,F1))\n",
    "range3 = len(where(Data,F3))\n",
    "range4 = len(where(Data,F4))\n",
    "range5 = len(where(Data,F5))\n",
    "\n",
    "\n",
    "print(\"Number of Entries passing F1:\", len(where(Data,F1)))\n",
    "print(\"Number of Entries passing F2:\", len(where(Data,F2)))\n",
    "print(range1/10)\n",
    "print(range3/6)\n",
    "print(range4/2)\n",
    "print(range5/6)"
   ]
  },
  {
   "cell_type": "markdown",
   "metadata": {},
   "source": [
    "### Exercise 1.5\n",
    "\n",
    "Repeat Exercise 1.4 using the built in python functions sum and map instead of your solution to 1.3. "
   ]
  },
  {
   "cell_type": "code",
   "execution_count": 81,
   "metadata": {},
   "outputs": [
    {
     "name": "stdout",
     "output_type": "stream",
     "text": [
      "503.5\n",
      "0.0\n",
      "503.5\n",
      "511.5\n",
      "509.0\n"
     ]
    }
   ],
   "source": [
    "### BEGIN SOLUTION\n",
    "\n",
    "print(sum(map(F1,Data))/10)\n",
    "print(sum(map(F2,Data))/10)\n",
    "print(sum(map(F3,Data))/6)\n",
    "print(sum(map(F4,Data))/2)\n",
    "print(sum(map(F5,Data))/6)\n",
    "    \n",
    "# method is much cleaner and requires less code\n",
    "### END SOLUTION"
   ]
  },
  {
   "cell_type": "markdown",
   "metadata": {},
   "source": [
    "### Exercise 1.6\n",
    "\n",
    "Write a new function called GenerateDataFromFunction(N,mymin,mymax,myfunc), that instead of generating a flat distribution, generates a distribution with functional form coded in myfunc. Note that myfunc will always be > 0.  \n",
    "\n",
    "Use your function to generate 1000 numbers that are Gaussian distributed, using the Gaussian function below. Confirm the mean of the data is close to mean you specify when building the Gaussian. \n",
    "\n",
    "Hint: A simple, but slow, solution is to a draw random number test_x within the specified range and another number p between the min and max of the function (which you will have to determine). If p<=function(test_x), then place test_x on the output. If not, repeat the process, drawing two new numbers. Repeat until you have the specified number of generated numbers, N. For this problem, it's OK to determine the min and max by numerically sampling the function.  \n",
    "\n"
   ]
  },
  {
   "cell_type": "code",
   "execution_count": 99,
   "metadata": {},
   "outputs": [],
   "source": [
    "def GenerateDataFromFunction(N,mymin,mymax,myfunc):\n",
    "    out = []\n",
    "    data_points = sorted(GenerateData(N,mymin,mymax))\n",
    "    #print(data_points)\n",
    "    for i in data_points:\n",
    "            out.append(myfunc(i))\n",
    "    return data_points, out"
   ]
  },
  {
   "cell_type": "code",
   "execution_count": 124,
   "metadata": {},
   "outputs": [
    {
     "data": {
      "image/png": "[encoded data removed]",
      "text/plain": [
       "<Figure size 432x288 with 1 Axes>"
      ]
     },
     "metadata": {},
     "output_type": "display_data"
    },
    {
     "data": {
      "text/plain": [
       "<matplotlib.collections.PathCollection at 0x119cea940>"
      ]
     },
     "execution_count": 124,
     "metadata": {},
     "output_type": "execute_result"
    },
    {
     "data": {
      "image/png": "[encoded data removed]",
      "text/plain": [
       "<Figure size 432x288 with 1 Axes>"
      ]
     },
     "metadata": {},
     "output_type": "display_data"
    }
   ],
   "source": [
    "import math\n",
    "from matplotlib import pyplot as plt\n",
    "\n",
    "def gaussian(mean, sigma):\n",
    "    def f(x):\n",
    "        return math.exp(-((x-mean)**2)/(2*sigma**2))/math.sqrt(math.pi*sigma) ## function was missing a minus out front\n",
    "    return f\n",
    "\n",
    "# Example Instantiation\n",
    "g1=gaussian(0,1)\n",
    "g2=gaussian(10,3)\n",
    "\n",
    "def y(x):\n",
    "    return x**2 - 8\n",
    "\n",
    "\n",
    "xaxis ,yaxis = GenerateDataFromFunction(1000,-3,3,g1)\n",
    "fig1 = plt.scatter(xaxis,yaxis)\n",
    "plt.show()\n",
    "xaxis ,yaxis = GenerateDataFromFunction(1000,-10,30,g2)\n",
    "plt.scatter(xaxis,yaxis)"
   ]
  },
  {
   "cell_type": "code",
   "execution_count": null,
   "metadata": {},
   "outputs": [],
   "source": []
  }
 ],
 "metadata": {
  "kernelspec": {
   "display_name": "Python 3",
   "language": "python",
   "name": "python3"
  },
  "language_info": {
   "codemirror_mode": {
    "name": "ipython",
    "version": 3
   },
   "file_extension": ".py",
   "mimetype": "text/x-python",
   "name": "python",
   "nbconvert_exporter": "python",
   "pygments_lexer": "ipython3",
   "version": "3.6.5"
  }
 },
 "nbformat": 4,
 "nbformat_minor": 2
}
